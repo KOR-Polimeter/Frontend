{
 "cells": [
  {
   "cell_type": "code",
   "execution_count": null,
   "id": "13081d4c-5bdc-4bd3-bbd5-e1c6d03c20c6",
   "metadata": {
    "scrolled": true
   },
   "outputs": [],
   "source": [
    "# 네이버 검색 API 예제 - 뉴스 검색\n",
    "import os\n",
    "import sys\n",
    "import urllib.request\n",
    "\n",
    "# 발급받은 naver API id / secret\n",
    "client_id = \"********************\"\n",
    "client_secret = \"***********\"\n",
    "\n",
    "encText = urllib.parse.quote(\"손흥민\")  # 검색어\n",
    "url = \"https://openapi.naver.com/v1/search/news?query=\" + encText + \"&display=100\" # JSON 결과\n",
    "# url = \"https://openapi.naver.com/v1/search/news.xml?query=\" + encText # XML 결과\n",
    "\n",
    "request = urllib.request.Request(url)\n",
    "request.add_header(\"X-Naver-Client-Id\",client_id)\n",
    "request.add_header(\"X-Naver-Client-Secret\",client_secret)\n",
    "response = urllib.request.urlopen(request)\n",
    "rescode = response.getcode()\n",
    "if(rescode==200):\n",
    "    response_body = response.read()\n",
    "    body = response_body.decode('utf-8')\n",
    "    print(body)\n",
    "else:\n",
    "    print(\"Error Code:\" + rescode)\n",
    "\n",
    "#body 나누기\n",
    "list1 = body.split('\\n\\t\\t{\\n\\t\\t\\t')\n",
    "# print(list1)"
   ]
  },
  {
   "cell_type": "code",
   "execution_count": null,
   "id": "109509ca-0ba4-4168-a0a5-46ddd90a82df",
   "metadata": {},
   "outputs": [],
   "source": [
    "#제목, 링크 뽑기\n",
    "import re\n",
    "titles = []\n",
    "links = []\n",
    "for i in list1:\n",
    "    title = re.findall('\"title\":\"(.*?)\",\\n\\t\\t\\t\"originallink\"',i)\n",
    "    link = re.findall('\"link\":\"(.*?)\",\\n\\t\\t\\t\"description\"',i)\n",
    "    titles.append(title)\n",
    "    links.append(link)\n",
    "\n",
    "titles = [r for i in titles for r in i]\n",
    "links = [r for i in links for r in i]\n",
    "\n",
    "\"\"\"\n",
    "print('<<제목 모음>>')\n",
    "print(titles)\n",
    "print('총 제목 수: ',len(titles),'개')  #제목 개수 확인\n",
    "print('\\n<<링크 모음>>')\n",
    "print(links)\n",
    "print('총 링크 수: ',len(links),'개')  #링크 개수 확인\n",
    "\"\"\"\n",
    "\n",
    "# 링크 다듬기 (필요없는 부분 제거 및 수정)\n",
    "news_links = []\n",
    "for i in links:\n",
    "    a = i.replace('\\\\','')\n",
    "    b = a.replace('?Redirect=Log&logNo=','/')\n",
    "    news_links.append(b)\n",
    "\n",
    "print(news_links)\n",
    "print('생성된 링크 갯수:',len(news_links),'개')"
   ]
  },
  {
   "cell_type": "code",
   "execution_count": null,
   "id": "ae9ec03d-3b2e-478b-bd3e-fa3605908765",
   "metadata": {},
   "outputs": [],
   "source": []
  }
 ],
 "metadata": {
  "kernelspec": {
   "display_name": "Python 3 (ipykernel)",
   "language": "python",
   "name": "python3"
  },
  "language_info": {
   "codemirror_mode": {
    "name": "ipython",
    "version": 3
   },
   "file_extension": ".py",
   "mimetype": "text/x-python",
   "name": "python",
   "nbconvert_exporter": "python",
   "pygments_lexer": "ipython3",
   "version": "3.12.7"
  }
 },
 "nbformat": 4,
 "nbformat_minor": 5
}
